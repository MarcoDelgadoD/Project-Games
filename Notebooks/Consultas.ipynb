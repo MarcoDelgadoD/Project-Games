{
 "cells": [
  {
   "cell_type": "markdown",
   "metadata": {},
   "source": [
    "En este apartado, llevaremos a cabo transformaciones a los datasets limpios:\n",
    "\n",
    "- australian_user_reviews_cleaned.csv\n",
    "- australian_users_items_cleaned.csv\n",
    "- output_steam_games_cleaned.csv\n",
    "\n",
    "El objetivo es tener archivos con la información necesaria para crear las funciones que va a consumir la API de acuerdo a los requerimientos del proyecto."
   ]
  },
  {
   "cell_type": "markdown",
   "metadata": {},
   "source": [
    "### 1. Importación de las bibliotecas necesarias"
   ]
  },
  {
   "cell_type": "code",
   "execution_count": 2,
   "metadata": {},
   "outputs": [],
   "source": [
    "import pandas as pd\n",
    "import numpy as np"
   ]
  },
  {
   "cell_type": "markdown",
   "metadata": {},
   "source": [
    "### 2. Carga de Datasets"
   ]
  },
  {
   "cell_type": "code",
   "execution_count": 2,
   "metadata": {},
   "outputs": [],
   "source": [
    "df_UserReviews = pd.read_csv(\"../Archivos_Limpios/australian_user_reviews_cleaned.csv\")\n",
    "df_UsersItems = pd.read_csv(\"../Archivos_Limpios/australian_users_items_cleaned.csv\")\n",
    "df_steam_games = pd.read_csv(\"../Archivos_Limpios/output_steam_games_cleaned.csv\")"
   ]
  },
  {
   "cell_type": "markdown",
   "metadata": {},
   "source": [
    "### 3. Transformaciones"
   ]
  },
  {
   "cell_type": "markdown",
   "metadata": {},
   "source": [
    "#### - PlayTimeGenre"
   ]
  },
  {
   "cell_type": "code",
   "execution_count": 3,
   "metadata": {},
   "outputs": [],
   "source": [
    "# Sumamos el número de horas por item_id en el DataFrame df_UsersItems\n",
    "df_UsersItemsGroup = df_UsersItems.groupby(\"item_id\")[\"hours_game\"].sum().reset_index()\n",
    "\n",
    "# Realizamos un merge entre los DataFrames: df_steam_games y df_UsersItemsGroup\n",
    "play_time_genre = pd.merge(df_steam_games[[\"item_id\", \"genres\", \"year\"]], df_UsersItemsGroup[[\"item_id\",\"hours_game\"]], on=\"item_id\")\n",
    "\n",
    "#Agrupamos por genero y año\n",
    "play_time_genre = play_time_genre.groupby([\"year\", \"genres\"])[\"hours_game\"].sum().reset_index()\n",
    "\n",
    "# Encontramos el género con más horas jugadas por año \n",
    "play_time_genre = play_time_genre.loc[play_time_genre.groupby([\"year\", \"genres\"])[\"hours_game\"].idxmax()]\n",
    "\n",
    "# Ordenamos el DataFrame resultante\n",
    "play_time_genre = play_time_genre.sort_values(by=[\"genres\", \"hours_game\", \"year\"], ascending=[True, False, True]).reset_index(drop=True)"
   ]
  },
  {
   "cell_type": "code",
   "execution_count": 4,
   "metadata": {},
   "outputs": [],
   "source": [
    "# Guardamos el resultado en un archivo CSV\n",
    "play_time_genre.to_csv(\"PlayTimeGenre.csv\", index=False)"
   ]
  },
  {
   "cell_type": "markdown",
   "metadata": {},
   "source": [
    "#### - UserForGenre"
   ]
  },
  {
   "cell_type": "code",
   "execution_count": 5,
   "metadata": {},
   "outputs": [],
   "source": [
    "# Creamos un DataFrame a partir de df_steam_games, eliminando algunas columnas \n",
    "df_game = df_steam_games.drop([\"name\", \"developer\", \"price\"],axis=1)\n",
    "\n",
    "# Realizamos un merge entre los DataFrames: df_UsersItems y df_game\n",
    "merged_data=pd.merge(df_UsersItems,df_game, left_on=\"item_id\", right_on=\"item_id\", how='right')\n",
    "\n",
    "# Eliminamos la columna \"item_id\"\n",
    "merged_data.drop([\"item_id\"], axis=1, inplace=True)\n",
    "merged_data.dropna(inplace=True)\n",
    "\n",
    "# Tranformamos el tipo de dato de las columnas \"hours_game\" y \"year\"\n",
    "merged_data[\"hours_game\"] = merged_data[\"hours_game\"].astype(int)\n",
    "merged_data[\"year\"] = merged_data[\"year\"].astype(int)\n",
    "\n",
    "# Encontramos el jugador con más horas jugadas por género y año\n",
    "user_for_genre = merged_data.loc[merged_data.groupby([\"genres\", \"year\"])[\"hours_game\"].idxmax()]\n",
    "\n",
    "# Filtramos las columnas necesarias\n",
    "user_for_genre = user_for_genre[[\"genres\", \"year\", \"user_id\", \"hours_game\"]]\n",
    "\n",
    "# Agrupamos para obtener las horas jugadas por año para el usuario seleccionado\n",
    "user_for_genre = user_for_genre.groupby([\"genres\", \"year\", \"user_id\"])[\"hours_game\"].sum().reset_index()"
   ]
  },
  {
   "cell_type": "code",
   "execution_count": 6,
   "metadata": {},
   "outputs": [],
   "source": [
    "# Guardamos el resultado en un archivo CSV\n",
    "user_for_genre.to_csv(\"UserForGenre.csv\", index=False)"
   ]
  },
  {
   "cell_type": "markdown",
   "metadata": {},
   "source": [
    "#### - UsersRecommend"
   ]
  },
  {
   "cell_type": "code",
   "execution_count": 3,
   "metadata": {},
   "outputs": [],
   "source": [
    "# Seleccionamos las columnas que necesitaremos del DataFrame df_UserReviews\n",
    "columns_UserReviews = [\"item_id\", \"recommend\", \"sentiment_analysis\", \"year\"]\n",
    "\n",
    "# Seleccionamos las columnas que necesitaremos del DataFrame df_steam_games\n",
    "columns_SteamGames = [\"item_id\", \"name\"]\n",
    "\n",
    "# Creamos dos nuevos DataFrames a partir de esaas selecciones de columnas\n",
    "df_UserReviews_selected = df_UserReviews[columns_UserReviews]\n",
    "\n",
    "df_SteamGames_selected = df_steam_games[columns_SteamGames]\n",
    "\n",
    "# Realizamos un merge entre los DataFrames: df_UserReviews_selected y df_SteamGames_selected\n",
    "df_merged = pd.merge(df_UserReviews_selected, df_SteamGames_selected, on=\"item_id\")\n",
    "\n",
    "# Filtramos los registros que cumplan algunas condiciones\n",
    "result = df_merged.loc[(df_merged[\"recommend\"] == True) & (df_merged[\"sentiment_analysis\"].isin([1, 2])), [\"year\", \"name\"]]\n",
    "\n",
    "# Agrupamos por las columnas \"year\" y \"name\", contando las ocurrencias\n",
    "users_recommend = result.groupby([\"year\", \"name\"]).size().reset_index(name=\"count\")\n",
    "\n",
    "# Ordenamos por las columnas \"year\" y \"count\" en orden descendente\n",
    "users_recommend = users_recommend.sort_values(by=[\"year\", \"count\"], ascending=[False, False])\n",
    "\n",
    "# Obteneemos el top 3 por año\n",
    "users_recommend = users_recommend.groupby(\"year\").head(3)"
   ]
  },
  {
   "cell_type": "code",
   "execution_count": 4,
   "metadata": {},
   "outputs": [],
   "source": [
    "# Guardamos el resultado en un archivo CSV\n",
    "users_recommend.to_csv(\"UsersRecommend.csv\", index=False)"
   ]
  },
  {
   "cell_type": "markdown",
   "metadata": {},
   "source": [
    "#### - UsersWorstDeveloper"
   ]
  },
  {
   "cell_type": "code",
   "execution_count": 3,
   "metadata": {},
   "outputs": [],
   "source": [
    "# Realizamos un merge entre los DataFrames: df_UserReviews y df_steam_games\n",
    "df_merged = pd.merge(df_UserReviews, df_steam_games[[\"item_id\", \"developer\"]], on=\"item_id\")\n",
    "\n",
    "# Filtramos los registros que cumplan algunas condiciones\n",
    "result = df_merged.loc[(df_merged[\"recommend\"] == False) & (df_merged[\"sentiment_analysis\"] == 0), [\"year\", \"developer\"]]\n",
    "\n",
    "# Agrupamos por las columnas \"year\" y \"developer\", contando las ocurrencias\n",
    "users_worst_developer = result.groupby([\"year\", \"developer\"]).size().reset_index(name=\"count\")\n",
    "\n",
    "# Ordenamos por las columnas \"year\" y \"count\" en orden descendente\n",
    "users_worst_developer = users_worst_developer.sort_values(by=[\"year\", \"count\"], ascending=[False, False])\n",
    "\n",
    "# Obtenemos el top 3 por año\n",
    "users_worst_developer = users_worst_developer.groupby(\"year\").head(3)  "
   ]
  },
  {
   "cell_type": "code",
   "execution_count": 5,
   "metadata": {},
   "outputs": [],
   "source": [
    "# Guardamos el resultado en un archivo CSV\n",
    "users_worst_developer.to_csv(\"UsersWorstDeveloper.csv\", index=False)"
   ]
  },
  {
   "cell_type": "markdown",
   "metadata": {},
   "source": [
    "#### - sentiment_analysis"
   ]
  },
  {
   "cell_type": "code",
   "execution_count": 3,
   "metadata": {},
   "outputs": [],
   "source": [
    "# Realizamos un merge entre los DataFrames: df_UserReviews y df_steam_games\n",
    "df_merged = pd.merge(df_UserReviews[[\"item_id\", \"sentiment_analysis\"]], df_steam_games[[\"item_id\", \"developer\"]], on=\"item_id\")\n",
    "\n",
    "# Agrupamos por las columnas \"year\" y \"developer\", contando las ocurrencias\n",
    "sentiment_analysis = df_merged.groupby([\"developer\", \"sentiment_analysis\"]).size().reset_index(name=\"count\")\n",
    "\n",
    "# Pivoteamos el DataFrame para obtener sentiment_analysis como columnas según su valor\n",
    "sentiment_analysis = sentiment_analysis.pivot(index=\"developer\", columns=\"sentiment_analysis\", values=\"count\").reset_index()\n",
    "\n",
    "# Rellenamos los NaN con 0\n",
    "sentiment_analysis = sentiment_analysis.fillna(0)\n",
    "\n",
    "# Renombramos las columnas\n",
    "sentiment_analysis.columns = [\"developer\", \"Negative\", \"Neutral\", \"Positive\"]\n",
    "\n",
    "# Convertimos las columnas \"Negative\", \"Neutral\" y \"Positive\" a tipo int\n",
    "sentiment_analysis[[\"Negative\", \"Neutral\", \"Positive\"]] = sentiment_analysis[[\"Negative\", \"Neutral\", \"Positive\"]].astype(int)"
   ]
  },
  {
   "cell_type": "code",
   "execution_count": 4,
   "metadata": {},
   "outputs": [],
   "source": [
    "# Guardamos el resultado en un archivo CSV\n",
    "sentiment_analysis.to_csv(\"SentimentAnalysis.csv\", index=False)"
   ]
  }
 ],
 "metadata": {
  "kernelspec": {
   "display_name": "Python 3",
   "language": "python",
   "name": "python3"
  },
  "language_info": {
   "codemirror_mode": {
    "name": "ipython",
    "version": 3
   },
   "file_extension": ".py",
   "mimetype": "text/x-python",
   "name": "python",
   "nbconvert_exporter": "python",
   "pygments_lexer": "ipython3",
   "version": "3.10.11"
  }
 },
 "nbformat": 4,
 "nbformat_minor": 2
}
