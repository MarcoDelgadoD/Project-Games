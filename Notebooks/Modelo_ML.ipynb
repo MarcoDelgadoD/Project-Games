{
 "cells": [
  {
   "cell_type": "markdown",
   "metadata": {},
   "source": [
    "En este apartado, llevaremos a cabo el entrenamiento de nuestro modelo de Machine Learning para armar un sistema de recomendación.\n",
    "\n",
    "El modelo tendrá una relación ítem-ítem; es decir, se tomará un ítem y, en base a qué tan similar es al resto, se recomendarán similares. Aquí el input es un juego y el output es una lista de juegos recomendados, para ello se aplicará la similitud del coseno."
   ]
  },
  {
   "cell_type": "markdown",
   "metadata": {},
   "source": [
    "### 1. Importación de las bibliotecas necesarias"
   ]
  },
  {
   "cell_type": "code",
   "execution_count": 1,
   "metadata": {},
   "outputs": [],
   "source": [
    "import pandas as pd\n",
    "from sklearn.feature_extraction.text import CountVectorizer\n",
    "from sklearn.metrics.pairwise import cosine_similarity\n",
    "import re"
   ]
  },
  {
   "cell_type": "markdown",
   "metadata": {},
   "source": [
    "### 2. Carga de Dataset"
   ]
  },
  {
   "cell_type": "code",
   "execution_count": 2,
   "metadata": {},
   "outputs": [],
   "source": [
    "df_steam_games = pd.read_csv(\"../Archivos_Limpios/output_steam_games_cleaned.csv\")"
   ]
  },
  {
   "cell_type": "markdown",
   "metadata": {},
   "source": [
    "### 3. Tratamiento adicional a los datos\n"
   ]
  },
  {
   "cell_type": "code",
   "execution_count": 3,
   "metadata": {},
   "outputs": [],
   "source": [
    "# Definimos una función llamada preprocess que toma un texto como entrada\n",
    "def preprocess(text):\n",
    "    # Reemplaza cualquier caracter que no sea una letra (mayúscula o minúscula) ni un número por un espacio en blanco\n",
    "    text_input = re.sub('[^a-zA-Z1-9]+', ' ', str(text))\n",
    "    # Elimina todos los dígitos del texto\n",
    "    output = re.sub(r'\\d+', '', text_input)\n",
    "    # Convertir el texto resultante a minúsculas y eliminar espacios en blanco al principio y al final\n",
    "    return output.lower().strip()"
   ]
  },
  {
   "cell_type": "code",
   "execution_count": 4,
   "metadata": {},
   "outputs": [],
   "source": [
    "# Aplicamos la función preprocess a la columna specs del DataFrame\n",
    "df_steam_games[\"specs\"] = df_steam_games.specs.map(preprocess)"
   ]
  },
  {
   "cell_type": "markdown",
   "metadata": {},
   "source": [
    "### 4. El Modelo"
   ]
  },
  {
   "cell_type": "markdown",
   "metadata": {},
   "source": [
    "Creación de un Vectorizador de Texto (CountVectorizer):\n",
    "\n",
    "- Propósito: Convertir texto (en este caso, la columna \"specs\") en vectores numéricos.\n",
    "\n",
    "- Proceso: El vectorizador asigna un número a cada palabra única presente en el texto y cuenta su frecuencia. Cada documento (en este caso, cada juego) se representa como un vector donde cada posición corresponde a la frecuencia de una palabra.\n",
    "\n",
    "- Importancia: Esta representación vectorial es necesaria para calcular la similitud del coseno, ya que este método trabaja con vectores numéricos."
   ]
  },
  {
   "cell_type": "code",
   "execution_count": 23,
   "metadata": {},
   "outputs": [],
   "source": [
    "# Creamos un vectorizador de texto\n",
    "cv = CountVectorizer()\n",
    "vectores = cv.fit_transform(df_steam_games[\"specs\"]).toarray()"
   ]
  },
  {
   "cell_type": "markdown",
   "metadata": {},
   "source": [
    "Cálculo de la Similitud del Coseno entre Vectores:\n",
    "\n",
    "- Propósito: Evaluar la similitud entre los vectores numéricos de diferentes juegos.\n",
    "\n",
    "- Proceso: Se utiliza la métrica de similitud del coseno, que mide el coseno del ángulo entre dos vectores. Cuanto más cercano a 1, más similares son los vectores.\n",
    "\n",
    "- Importancia: La similitud del coseno es clave para determinar qué tan parecidos son los juegos entre sí. Esto se utiliza para generar recomendaciones, ya que los juegos con vectores similares son considerados como recomendaciones potenciales."
   ]
  },
  {
   "cell_type": "code",
   "execution_count": null,
   "metadata": {},
   "outputs": [],
   "source": [
    "# Calculamos la similitud del coseno entre vectores\n",
    "similitud = cosine_similarity(vectores)"
   ]
  },
  {
   "cell_type": "markdown",
   "metadata": {},
   "source": [
    "A continuación, se genera una función (recomendacion) que toma como entrada el ID de un juego y devuelve una lista de los cinco juegos más recomendados basándose en la similitud del coseno entre vectores.La función devuelve la lista de títulos recomendados."
   ]
  },
  {
   "cell_type": "code",
   "execution_count": 25,
   "metadata": {},
   "outputs": [],
   "source": [
    "# Generamos una función para obtener recomendaciones por título\n",
    "def recomendacion(juego):\n",
    "\n",
    "    # Buscamos el índice del juego en el DataFrame.\n",
    "    # Este índice es utilizado para acceder a la fila correspondiente en la matriz de similitud.\n",
    "    indice_juego = df_steam_games[df_steam_games[\"item_id\"] == juego].index[0]\n",
    "    \n",
    "    # Cálculo de Similitudes:\n",
    "    # Se obtienen las distancias de similitud entre el juego de entrada y todos los demás juegos en el conjunto de datos. \n",
    "    distances = similitud[indice_juego]\n",
    "    \n",
    "    # Las distancias se ordenan de manera descendente, y se seleccionan los cinco juegos más similares (excluyendo el juego de entrada)\n",
    "    lista_juegos = sorted(list(enumerate(distances)), reverse=True, key=lambda x: x[1])[1:6]\n",
    "    \n",
    "    # Salida. Devuelve la lista de títulos recomendados.\n",
    "    recommended_titles = [df_steam_games.iloc[i[0]][\"name\"] for i in lista_juegos]\n",
    "    \n",
    "    return recommended_titles"
   ]
  },
  {
   "cell_type": "code",
   "execution_count": null,
   "metadata": {},
   "outputs": [],
   "source": [
    "# Aplicamos la función a la columna \"item_id\" y creamos una nueva columna \"Recomendaciones\"\n",
    "df_steam_games[\"Recomendaciones\"] = df_steam_games[\"item_id\"].apply(recomendacion)"
   ]
  },
  {
   "cell_type": "code",
   "execution_count": null,
   "metadata": {},
   "outputs": [],
   "source": [
    "# Eliminamos columnas innecesarias para disminuir el tamaño del archivo de salida\n",
    "df_steam_games.drop(columns=[\"genres\", \"name\", \"specs\", \"price\", \"developer\", \"year\"], inplace=True)\n",
    "df_steam_games"
   ]
  },
  {
   "cell_type": "code",
   "execution_count": null,
   "metadata": {},
   "outputs": [],
   "source": [
    "# Guardamos el DataFrame resultante en un nuevo archivo CSV\n",
    "df_steam_games.to_csv('Modelo_ML.csv', index=False)"
   ]
  }
 ],
 "metadata": {
  "kernelspec": {
   "display_name": "Python 3",
   "language": "python",
   "name": "python3"
  },
  "language_info": {
   "codemirror_mode": {
    "name": "ipython",
    "version": 3
   },
   "file_extension": ".py",
   "mimetype": "text/x-python",
   "name": "python",
   "nbconvert_exporter": "python",
   "pygments_lexer": "ipython3",
   "version": "3.10.11"
  }
 },
 "nbformat": 4,
 "nbformat_minor": 2
}
