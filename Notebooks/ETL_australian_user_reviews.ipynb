{
 "cells": [
  {
   "cell_type": "markdown",
   "metadata": {},
   "source": [
    "## Informe de Extracción, Transformación y Carga de Datos (ETL): australian_user_reviews"
   ]
  },
  {
   "cell_type": "markdown",
   "metadata": {},
   "source": [
    "En este apartado, llevaremos a cabo el proceso de Extracción, Transformación y Carga (ETL) del dataset australian_user_reviews donde se registran las reseñas de usuarios australianos sobre juegos en la plataforma Steam. El objetivo es preparar los datos para su posterior exploración y análisis.\n",
    "\n",
    "Después de importar las bibliotecas necesarias para el trabajo, nos enfocaremos en abordar posibles inconvenientes en los datos, aplicaremos técnicas de depuración y preprocesamiento, y finalmente, almacenaremos los datos transformados en un archivo csv."
   ]
  },
  {
   "cell_type": "markdown",
   "metadata": {},
   "source": [
    "### 1. Importación de las bibliotecas necesarias"
   ]
  },
  {
   "cell_type": "code",
   "execution_count": 1,
   "metadata": {},
   "outputs": [],
   "source": [
    "# Pandas para el análisis de datos tabulares\n",
    "import pandas as pd\n",
    "\n",
    "# NumPy proporciona soporte para arreglos y matrices multidimensionales\n",
    "import numpy as np\n",
    "\n",
    "# Langdetect es una biblioteca para detectar automáticamente el idioma en el que está escrito un texto\n",
    "from langdetect import detect\n",
    "\n",
    "# SentimentIntensityAnalyzer es una herramienta en NLTK para análisis de sentimientos\n",
    "from nltk.sentiment import SentimentIntensityAnalyzer"
   ]
  },
  {
   "cell_type": "markdown",
   "metadata": {},
   "source": [
    "### 2. Carga del archivo"
   ]
  },
  {
   "cell_type": "code",
   "execution_count": 2,
   "metadata": {},
   "outputs": [],
   "source": [
    "# Ruta del archivo\n",
    "ruta = \"../Datasets/australian_user_reviews.json\""
   ]
  },
  {
   "cell_type": "code",
   "execution_count": 3,
   "metadata": {},
   "outputs": [],
   "source": [
    "# Leemos el archivo\n",
    "with open(ruta, 'r', encoding='utf-8') as file:\n",
    "    data = file.readlines()\n",
    "\n",
    "# Convertimos cada linea en un registro como código de Python (una lista de diccionarios)\n",
    "registros = [eval(line.strip()) for line in data]\n",
    "\n",
    "# Creamos un DataFrame a partir de los registros\n",
    "df_user_reviews= pd.DataFrame(registros)"
   ]
  },
  {
   "cell_type": "markdown",
   "metadata": {},
   "source": [
    "### 3. Exploración del DataFrame"
   ]
  },
  {
   "cell_type": "code",
   "execution_count": 4,
   "metadata": {},
   "outputs": [
    {
     "name": "stdout",
     "output_type": "stream",
     "text": [
      "\n",
      "Primeras filas del DataFrame:\n"
     ]
    },
    {
     "data": {
      "text/html": [
       "<div>\n",
       "<style scoped>\n",
       "    .dataframe tbody tr th:only-of-type {\n",
       "        vertical-align: middle;\n",
       "    }\n",
       "\n",
       "    .dataframe tbody tr th {\n",
       "        vertical-align: top;\n",
       "    }\n",
       "\n",
       "    .dataframe thead th {\n",
       "        text-align: right;\n",
       "    }\n",
       "</style>\n",
       "<table border=\"1\" class=\"dataframe\">\n",
       "  <thead>\n",
       "    <tr style=\"text-align: right;\">\n",
       "      <th></th>\n",
       "      <th>user_id</th>\n",
       "      <th>user_url</th>\n",
       "      <th>reviews</th>\n",
       "    </tr>\n",
       "  </thead>\n",
       "  <tbody>\n",
       "    <tr>\n",
       "      <th>0</th>\n",
       "      <td>76561197970982479</td>\n",
       "      <td>http://steamcommunity.com/profiles/76561197970...</td>\n",
       "      <td>[{'funny': '', 'posted': 'Posted November 5, 2...</td>\n",
       "    </tr>\n",
       "    <tr>\n",
       "      <th>1</th>\n",
       "      <td>js41637</td>\n",
       "      <td>http://steamcommunity.com/id/js41637</td>\n",
       "      <td>[{'funny': '', 'posted': 'Posted June 24, 2014...</td>\n",
       "    </tr>\n",
       "    <tr>\n",
       "      <th>2</th>\n",
       "      <td>evcentric</td>\n",
       "      <td>http://steamcommunity.com/id/evcentric</td>\n",
       "      <td>[{'funny': '', 'posted': 'Posted February 3.',...</td>\n",
       "    </tr>\n",
       "    <tr>\n",
       "      <th>3</th>\n",
       "      <td>doctr</td>\n",
       "      <td>http://steamcommunity.com/id/doctr</td>\n",
       "      <td>[{'funny': '', 'posted': 'Posted October 14, 2...</td>\n",
       "    </tr>\n",
       "    <tr>\n",
       "      <th>4</th>\n",
       "      <td>maplemage</td>\n",
       "      <td>http://steamcommunity.com/id/maplemage</td>\n",
       "      <td>[{'funny': '3 people found this review funny',...</td>\n",
       "    </tr>\n",
       "  </tbody>\n",
       "</table>\n",
       "</div>"
      ],
      "text/plain": [
       "             user_id                                           user_url  \\\n",
       "0  76561197970982479  http://steamcommunity.com/profiles/76561197970...   \n",
       "1            js41637               http://steamcommunity.com/id/js41637   \n",
       "2          evcentric             http://steamcommunity.com/id/evcentric   \n",
       "3              doctr                 http://steamcommunity.com/id/doctr   \n",
       "4          maplemage             http://steamcommunity.com/id/maplemage   \n",
       "\n",
       "                                             reviews  \n",
       "0  [{'funny': '', 'posted': 'Posted November 5, 2...  \n",
       "1  [{'funny': '', 'posted': 'Posted June 24, 2014...  \n",
       "2  [{'funny': '', 'posted': 'Posted February 3.',...  \n",
       "3  [{'funny': '', 'posted': 'Posted October 14, 2...  \n",
       "4  [{'funny': '3 people found this review funny',...  "
      ]
     },
     "execution_count": 4,
     "metadata": {},
     "output_type": "execute_result"
    }
   ],
   "source": [
    "# Mostramos las primeras 5 filas del DataFrame\n",
    "print(\"\\nPrimeras filas del DataFrame:\")\n",
    "df_user_reviews.head()"
   ]
  },
  {
   "cell_type": "markdown",
   "metadata": {},
   "source": [
    "Según la visualización de las 5 primeras filas del DataFrame, este parece contener tres columnas:\n",
    "\n",
    "- user_id: Esta columna parece contener un identificador único para cada usuario.\n",
    "\n",
    "- user_url: Contiene enlaces a los perfiles de los usuarios en la plataforma Steam.\n",
    "\n",
    "- reviews: Contiene información detallada sobre las revisiones realizadas por cada usuario. Cada entrada es un diccionario o estructura similar, que incluye detalles como la fecha de publicación, contenido de la revisión, etc."
   ]
  },
  {
   "cell_type": "code",
   "execution_count": 5,
   "metadata": {},
   "outputs": [
    {
     "data": {
      "text/plain": [
       "[{'funny': '',\n",
       "  'posted': 'Posted November 5, 2011.',\n",
       "  'last_edited': '',\n",
       "  'item_id': '1250',\n",
       "  'helpful': 'No ratings yet',\n",
       "  'recommend': True,\n",
       "  'review': 'Simple yet with great replayability. In my opinion does \"zombie\" hordes and team work better than left 4 dead plus has a global leveling system. Alot of down to earth \"zombie\" splattering fun for the whole family. Amazed this sort of FPS is so rare.'},\n",
       " {'funny': '',\n",
       "  'posted': 'Posted July 15, 2011.',\n",
       "  'last_edited': '',\n",
       "  'item_id': '22200',\n",
       "  'helpful': 'No ratings yet',\n",
       "  'recommend': True,\n",
       "  'review': \"It's unique and worth a playthrough.\"},\n",
       " {'funny': '',\n",
       "  'posted': 'Posted April 21, 2011.',\n",
       "  'last_edited': '',\n",
       "  'item_id': '43110',\n",
       "  'helpful': 'No ratings yet',\n",
       "  'recommend': True,\n",
       "  'review': 'Great atmosphere. The gunplay can be a bit chunky at times but at the end of the day this game is definitely worth it and I hope they do a sequel...so buy the game so I get a sequel!'}]"
      ]
     },
     "execution_count": 5,
     "metadata": {},
     "output_type": "execute_result"
    }
   ],
   "source": [
    "# Mostramos el primer registro de la columna \"reviews\"\n",
    "df_user_reviews.iloc[0,2]"
   ]
  },
  {
   "cell_type": "markdown",
   "metadata": {},
   "source": [
    "Respecto a esta última columna (\"reviews\"), se observa que contiene datos estructurados en formato JSON. Lo que haremos a continuación será normalizarlos en un nuevo DataFrame permitiéndonos explorar esta columna más a fondo, conservando las dos primeras columnas (\"user_id\" y \"user_url\")."
   ]
  },
  {
   "cell_type": "code",
   "execution_count": 6,
   "metadata": {},
   "outputs": [
    {
     "data": {
      "text/html": [
       "<div>\n",
       "<style scoped>\n",
       "    .dataframe tbody tr th:only-of-type {\n",
       "        vertical-align: middle;\n",
       "    }\n",
       "\n",
       "    .dataframe tbody tr th {\n",
       "        vertical-align: top;\n",
       "    }\n",
       "\n",
       "    .dataframe thead th {\n",
       "        text-align: right;\n",
       "    }\n",
       "</style>\n",
       "<table border=\"1\" class=\"dataframe\">\n",
       "  <thead>\n",
       "    <tr style=\"text-align: right;\">\n",
       "      <th></th>\n",
       "      <th>user_id</th>\n",
       "      <th>user_url</th>\n",
       "      <th>funny</th>\n",
       "      <th>posted</th>\n",
       "      <th>last_edited</th>\n",
       "      <th>item_id</th>\n",
       "      <th>helpful</th>\n",
       "      <th>recommend</th>\n",
       "      <th>review</th>\n",
       "    </tr>\n",
       "  </thead>\n",
       "  <tbody>\n",
       "    <tr>\n",
       "      <th>0</th>\n",
       "      <td>76561197970982479</td>\n",
       "      <td>http://steamcommunity.com/profiles/76561197970...</td>\n",
       "      <td></td>\n",
       "      <td>Posted November 5, 2011.</td>\n",
       "      <td></td>\n",
       "      <td>1250</td>\n",
       "      <td>No ratings yet</td>\n",
       "      <td>True</td>\n",
       "      <td>Simple yet with great replayability. In my opi...</td>\n",
       "    </tr>\n",
       "    <tr>\n",
       "      <th>1</th>\n",
       "      <td>76561197970982479</td>\n",
       "      <td>http://steamcommunity.com/profiles/76561197970...</td>\n",
       "      <td></td>\n",
       "      <td>Posted July 15, 2011.</td>\n",
       "      <td></td>\n",
       "      <td>22200</td>\n",
       "      <td>No ratings yet</td>\n",
       "      <td>True</td>\n",
       "      <td>It's unique and worth a playthrough.</td>\n",
       "    </tr>\n",
       "    <tr>\n",
       "      <th>2</th>\n",
       "      <td>76561197970982479</td>\n",
       "      <td>http://steamcommunity.com/profiles/76561197970...</td>\n",
       "      <td></td>\n",
       "      <td>Posted April 21, 2011.</td>\n",
       "      <td></td>\n",
       "      <td>43110</td>\n",
       "      <td>No ratings yet</td>\n",
       "      <td>True</td>\n",
       "      <td>Great atmosphere. The gunplay can be a bit chu...</td>\n",
       "    </tr>\n",
       "  </tbody>\n",
       "</table>\n",
       "</div>"
      ],
      "text/plain": [
       "             user_id                                           user_url funny  \\\n",
       "0  76561197970982479  http://steamcommunity.com/profiles/76561197970...         \n",
       "1  76561197970982479  http://steamcommunity.com/profiles/76561197970...         \n",
       "2  76561197970982479  http://steamcommunity.com/profiles/76561197970...         \n",
       "\n",
       "                     posted last_edited item_id         helpful  recommend  \\\n",
       "0  Posted November 5, 2011.                1250  No ratings yet       True   \n",
       "1     Posted July 15, 2011.               22200  No ratings yet       True   \n",
       "2    Posted April 21, 2011.               43110  No ratings yet       True   \n",
       "\n",
       "                                              review  \n",
       "0  Simple yet with great replayability. In my opi...  \n",
       "1               It's unique and worth a playthrough.  \n",
       "2  Great atmosphere. The gunplay can be a bit chu...  "
      ]
     },
     "execution_count": 6,
     "metadata": {},
     "output_type": "execute_result"
    }
   ],
   "source": [
    "# Creamos un nuevo DataFrame (df_UserReviews) detallando las columna \"reviews\" y manteniendo \"user_id\" y \"user_url\"\n",
    "df_UserReviews = pd.json_normalize(registros, record_path=[\"reviews\"], meta=[\"user_id\", \"user_url\"])\n",
    "\n",
    "# Especificamos el orden que tendrán las columnas\n",
    "column_orden = [\"user_id\", \"user_url\", \"funny\", \"posted\", \"last_edited\", \"item_id\", \"helpful\", \"recommend\", \"review\"]\n",
    "\n",
    "# Sobreescribimos el DataFrame con el nuevo orden de las columnas\n",
    "df_UserReviews = df_UserReviews[column_orden]\n",
    "\n",
    "# Mostramos las primeras 3 filas del nuevo DataFrame\n",
    "df_UserReviews.head(3)\n"
   ]
  },
  {
   "cell_type": "code",
   "execution_count": 7,
   "metadata": {},
   "outputs": [
    {
     "name": "stdout",
     "output_type": "stream",
     "text": [
      "<class 'pandas.core.frame.DataFrame'>\n",
      "RangeIndex: 59305 entries, 0 to 59304\n",
      "Data columns (total 9 columns):\n",
      " #   Column       Non-Null Count  Dtype \n",
      "---  ------       --------------  ----- \n",
      " 0   user_id      59305 non-null  object\n",
      " 1   user_url     59305 non-null  object\n",
      " 2   funny        59305 non-null  object\n",
      " 3   posted       59305 non-null  object\n",
      " 4   last_edited  59305 non-null  object\n",
      " 5   item_id      59305 non-null  object\n",
      " 6   helpful      59305 non-null  object\n",
      " 7   recommend    59305 non-null  bool  \n",
      " 8   review       59305 non-null  object\n",
      "dtypes: bool(1), object(8)\n",
      "memory usage: 3.7+ MB\n"
     ]
    }
   ],
   "source": [
    "# Revisamos las información general del DataFrame\n",
    "df_UserReviews.info()"
   ]
  },
  {
   "cell_type": "markdown",
   "metadata": {},
   "source": [
    "Después de notar que las columnas principalmente contienen datos de tipo \"object\" y \"bool\", se deduce que aplicar estadísticas descriptivas a todas las columnas podría tener menos relevancia. Esto se debe a que las estadísticas descriptivas suelen ser más aplicables a columnas numéricas, mientras que las columnas 'object' suelen contener datos de texto que no son propicios para ciertos cálculos estadísticos."
   ]
  },
  {
   "cell_type": "markdown",
   "metadata": {},
   "source": [
    "### 4. Limpieza y preprocesamiento del conjunto de datos"
   ]
  },
  {
   "cell_type": "markdown",
   "metadata": {},
   "source": [
    "Procedemos a verificar la ausencia simultanea de datos en columnas relevantes del DataFrame (\"posted\", \"recommend\" y \"review\"), ya que la falta de esos datos podría afectar negativamente las calidad de los resultados."
   ]
  },
  {
   "cell_type": "code",
   "execution_count": 8,
   "metadata": {},
   "outputs": [],
   "source": [
    "# Reemplazamos los valores vacíos, 'null' y 'None' con NaN en todo el DataFrame\n",
    "df_UserReviews.replace([\"\", \"null\", \"None\"], np.nan, inplace=True)"
   ]
  },
  {
   "cell_type": "code",
   "execution_count": 9,
   "metadata": {},
   "outputs": [
    {
     "data": {
      "text/html": [
       "<div>\n",
       "<style scoped>\n",
       "    .dataframe tbody tr th:only-of-type {\n",
       "        vertical-align: middle;\n",
       "    }\n",
       "\n",
       "    .dataframe tbody tr th {\n",
       "        vertical-align: top;\n",
       "    }\n",
       "\n",
       "    .dataframe thead th {\n",
       "        text-align: right;\n",
       "    }\n",
       "</style>\n",
       "<table border=\"1\" class=\"dataframe\">\n",
       "  <thead>\n",
       "    <tr style=\"text-align: right;\">\n",
       "      <th></th>\n",
       "      <th>user_id</th>\n",
       "      <th>user_url</th>\n",
       "      <th>funny</th>\n",
       "      <th>posted</th>\n",
       "      <th>last_edited</th>\n",
       "      <th>item_id</th>\n",
       "      <th>helpful</th>\n",
       "      <th>recommend</th>\n",
       "      <th>review</th>\n",
       "    </tr>\n",
       "  </thead>\n",
       "  <tbody>\n",
       "  </tbody>\n",
       "</table>\n",
       "</div>"
      ],
      "text/plain": [
       "Empty DataFrame\n",
       "Columns: [user_id, user_url, funny, posted, last_edited, item_id, helpful, recommend, review]\n",
       "Index: []"
      ]
     },
     "execution_count": 9,
     "metadata": {},
     "output_type": "execute_result"
    }
   ],
   "source": [
    "# Mostramos las filas donde las columnas a considerar tienen valores nulos\n",
    "columnas_a_considerar = [\"posted\", \"recommend\", \"review\"]\n",
    "filas_con_nulos = df_UserReviews[df_UserReviews[columnas_a_considerar].isnull().all(axis=1)]\n",
    "filas_con_nulos"
   ]
  },
  {
   "cell_type": "markdown",
   "metadata": {},
   "source": [
    "Los resultados indican que dentro del conjunto de datos actual, no hay filas donde \"posted\", \"recommend\" y \"review\" estén simultáneamente ausentes. Como resultado, podemos proceder con confianza en nuestro análisis."
   ]
  },
  {
   "cell_type": "code",
   "execution_count": 10,
   "metadata": {},
   "outputs": [
    {
     "name": "stdout",
     "output_type": "stream",
     "text": [
      "Las columnas con más del 80.0% de valores nulos son:\n",
      "funny: 86.26%\n",
      "last_edited: 89.65%\n"
     ]
    }
   ],
   "source": [
    "# Establecemos un umbral del 80% para decidir que columnas eliminar por cantidad de valores nulos\n",
    "umbral_nulos = 0.8\n",
    "\n",
    "# Calculamos el porcentaje de valores nulos por columna\n",
    "porcentaje_nulos = df_UserReviews.isnull().mean()\n",
    "\n",
    "# Filtramos las columnas que superan el umbral\n",
    "columnas_a_eliminar = porcentaje_nulos[porcentaje_nulos > umbral_nulos]\n",
    "\n",
    "# Mostramos las columnas y su respectivo porcentaje de valores nulos\n",
    "print(f\"Las columnas con más del {umbral_nulos*100}% de valores nulos son:\")\n",
    "for columna, porcentaje in columnas_a_eliminar.items():\n",
    "    print(f\"{columna}: {round(porcentaje*100, 2)}%\")"
   ]
  },
  {
   "cell_type": "markdown",
   "metadata": {},
   "source": [
    "Se observa que la mayoría de filas en las columnas \"funny\" y \"last_edited\" contienen valores nulos y no son cruciales para el análisis, por lo que se procede a eliminarlas."
   ]
  },
  {
   "cell_type": "code",
   "execution_count": 11,
   "metadata": {},
   "outputs": [],
   "source": [
    "# Eliminamos las columnas \"funny\" y \"last_edited\"\n",
    "df_UserReviews.drop(columns=columnas_a_eliminar.index, inplace=True)"
   ]
  },
  {
   "cell_type": "markdown",
   "metadata": {},
   "source": [
    "Adicionalmente, las columnas \"helpful\" y \"user_url\" tampoco aportan datos relevantes para nuestro estudio objetivo, por lo que también se procede a eliminarlas."
   ]
  },
  {
   "cell_type": "code",
   "execution_count": 12,
   "metadata": {},
   "outputs": [],
   "source": [
    "# Eliminamos las columnas \"helpful\" y \"user_url\"\n",
    "df_UserReviews.drop([\"helpful\",\"user_url\"], axis=1, inplace=True)"
   ]
  },
  {
   "cell_type": "markdown",
   "metadata": {},
   "source": [
    "Ahora, verificaremos si existen registros duplicados y trabajaremos con ellos."
   ]
  },
  {
   "cell_type": "code",
   "execution_count": 13,
   "metadata": {},
   "outputs": [
    {
     "data": {
      "text/plain": [
       "user_id      1736\n",
       "posted       1736\n",
       "item_id      1736\n",
       "recommend    1736\n",
       "review       1736\n",
       "dtype: int64"
      ]
     },
     "execution_count": 13,
     "metadata": {},
     "output_type": "execute_result"
    }
   ],
   "source": [
    "# Ordenamos el DataFrame y buscamos registros duplicados\n",
    "df_UserReviews.sort_values(\"user_id\")\n",
    "filas_duplicadas = df_UserReviews[df_UserReviews.duplicated(subset=[\"user_id\", \"item_id\", \"posted\", \"review\"], keep=False)]\n",
    "filas_duplicadas.count()"
   ]
  },
  {
   "cell_type": "code",
   "execution_count": 14,
   "metadata": {},
   "outputs": [
    {
     "name": "stdout",
     "output_type": "stream",
     "text": [
      "Cantidad total de registros duplicados eliminados: 1736\n"
     ]
    }
   ],
   "source": [
    "# Eliminamos los registros duplicados basándonos en mútiples columnas\n",
    "duplicados_eliminados = df_UserReviews.drop_duplicates(subset=[\"user_id\", \"item_id\", \"posted\", \"review\"], keep=False, inplace=True)\n",
    "\n",
    "print(f\"Cantidad total de registros duplicados eliminados: {filas_duplicadas.shape[0]}\")"
   ]
  },
  {
   "cell_type": "markdown",
   "metadata": {},
   "source": [
    "Dentro del DataFrame, algo muy importante a considerar es el año en que se ha hecho el \"review\" de cada usuario ya que esto facilita los análisis temporales y tendencias a lo largo del tiempo.\n",
    "\n",
    "Aunque no contamos con una columna de año, la podremos obtener a partir de la columna \"posted\", siendo luego esta última eliminada para simplificar la estructura del conjunto de datos."
   ]
  },
  {
   "cell_type": "code",
   "execution_count": 15,
   "metadata": {},
   "outputs": [
    {
     "data": {
      "text/html": [
       "<div>\n",
       "<style scoped>\n",
       "    .dataframe tbody tr th:only-of-type {\n",
       "        vertical-align: middle;\n",
       "    }\n",
       "\n",
       "    .dataframe tbody tr th {\n",
       "        vertical-align: top;\n",
       "    }\n",
       "\n",
       "    .dataframe thead th {\n",
       "        text-align: right;\n",
       "    }\n",
       "</style>\n",
       "<table border=\"1\" class=\"dataframe\">\n",
       "  <thead>\n",
       "    <tr style=\"text-align: right;\">\n",
       "      <th></th>\n",
       "      <th>user_id</th>\n",
       "      <th>posted</th>\n",
       "      <th>item_id</th>\n",
       "      <th>recommend</th>\n",
       "      <th>review</th>\n",
       "      <th>year</th>\n",
       "    </tr>\n",
       "  </thead>\n",
       "  <tbody>\n",
       "    <tr>\n",
       "      <th>0</th>\n",
       "      <td>76561197970982479</td>\n",
       "      <td>2011-11-05</td>\n",
       "      <td>1250</td>\n",
       "      <td>True</td>\n",
       "      <td>Simple yet with great replayability. In my opi...</td>\n",
       "      <td>2011</td>\n",
       "    </tr>\n",
       "    <tr>\n",
       "      <th>1</th>\n",
       "      <td>76561197970982479</td>\n",
       "      <td>2011-07-15</td>\n",
       "      <td>22200</td>\n",
       "      <td>True</td>\n",
       "      <td>It's unique and worth a playthrough.</td>\n",
       "      <td>2011</td>\n",
       "    </tr>\n",
       "    <tr>\n",
       "      <th>2</th>\n",
       "      <td>76561197970982479</td>\n",
       "      <td>2011-04-21</td>\n",
       "      <td>43110</td>\n",
       "      <td>True</td>\n",
       "      <td>Great atmosphere. The gunplay can be a bit chu...</td>\n",
       "      <td>2011</td>\n",
       "    </tr>\n",
       "    <tr>\n",
       "      <th>3</th>\n",
       "      <td>js41637</td>\n",
       "      <td>2014-06-24</td>\n",
       "      <td>251610</td>\n",
       "      <td>True</td>\n",
       "      <td>I know what you think when you see this title ...</td>\n",
       "      <td>2014</td>\n",
       "    </tr>\n",
       "    <tr>\n",
       "      <th>4</th>\n",
       "      <td>js41637</td>\n",
       "      <td>2013-09-08</td>\n",
       "      <td>227300</td>\n",
       "      <td>True</td>\n",
       "      <td>For a simple (it's actually not all that simpl...</td>\n",
       "      <td>2013</td>\n",
       "    </tr>\n",
       "  </tbody>\n",
       "</table>\n",
       "</div>"
      ],
      "text/plain": [
       "             user_id     posted item_id  recommend  \\\n",
       "0  76561197970982479 2011-11-05    1250       True   \n",
       "1  76561197970982479 2011-07-15   22200       True   \n",
       "2  76561197970982479 2011-04-21   43110       True   \n",
       "3            js41637 2014-06-24  251610       True   \n",
       "4            js41637 2013-09-08  227300       True   \n",
       "\n",
       "                                              review  year  \n",
       "0  Simple yet with great replayability. In my opi...  2011  \n",
       "1               It's unique and worth a playthrough.  2011  \n",
       "2  Great atmosphere. The gunplay can be a bit chu...  2011  \n",
       "3  I know what you think when you see this title ...  2014  \n",
       "4  For a simple (it's actually not all that simpl...  2013  "
      ]
     },
     "execution_count": 15,
     "metadata": {},
     "output_type": "execute_result"
    }
   ],
   "source": [
    "# Convertimos la columna \"posted\" a tipo str para poder eliminar caracteres no deseados y luego la convertimos a tipo datatime\n",
    "df_UserReviews[\"posted\"] = pd.to_datetime(df_UserReviews['posted'].astype(str).str.replace(r'Posted |,|\\.', '', regex=True), errors=\"coerce\")\n",
    "\n",
    "# Creamos la columna \"year\" de tipo entero partir de la columna \"posted\"\n",
    "df_UserReviews[\"year\"] = df_UserReviews[\"posted\"].dt.year.astype('Int64')\n",
    "\n",
    "# Observamos el resultado\n",
    "df_UserReviews.head(5)"
   ]
  },
  {
   "cell_type": "code",
   "execution_count": 16,
   "metadata": {},
   "outputs": [],
   "source": [
    "# Ordenamos el DataFrame por \"item_id\" y \"year\" para asegurar que la interpolación se haga correctamente\n",
    "df_UserReviews = df_UserReviews.sort_values([\"item_id\", \"year\"])\n",
    "\n",
    "# Rellenamos valores nulos en \"year\" mediante interpolación lineal por grupo (item_id)\n",
    "df_UserReviews[\"year\"] = df_UserReviews.groupby(\"item_id\", group_keys=False)[\"year\"].apply(lambda group: group.interpolate(method=\"pad\") if group.notna().any() else group)\n",
    "\n",
    "# Si aún hay valores nulos después de la interpolación, se llenan con la mediana. \n",
    "df_UserReviews[\"year\"] = df_UserReviews[\"year\"].fillna(df_UserReviews[\"year\"].median())"
   ]
  },
  {
   "cell_type": "code",
   "execution_count": 18,
   "metadata": {},
   "outputs": [
    {
     "data": {
      "text/html": [
       "<div>\n",
       "<style scoped>\n",
       "    .dataframe tbody tr th:only-of-type {\n",
       "        vertical-align: middle;\n",
       "    }\n",
       "\n",
       "    .dataframe tbody tr th {\n",
       "        vertical-align: top;\n",
       "    }\n",
       "\n",
       "    .dataframe thead th {\n",
       "        text-align: right;\n",
       "    }\n",
       "</style>\n",
       "<table border=\"1\" class=\"dataframe\">\n",
       "  <thead>\n",
       "    <tr style=\"text-align: right;\">\n",
       "      <th></th>\n",
       "      <th>item_id</th>\n",
       "      <th>recommend</th>\n",
       "      <th>review</th>\n",
       "      <th>year</th>\n",
       "    </tr>\n",
       "  </thead>\n",
       "  <tbody>\n",
       "    <tr>\n",
       "      <th>5331</th>\n",
       "      <td>10</td>\n",
       "      <td>True</td>\n",
       "      <td>this game is the 1# online action game is awes...</td>\n",
       "      <td>2011</td>\n",
       "    </tr>\n",
       "    <tr>\n",
       "      <th>22702</th>\n",
       "      <td>10</td>\n",
       "      <td>True</td>\n",
       "      <td>GYERTEK GAMELNI MINDENKI ITT VAN AKI SZÁMIT !!...</td>\n",
       "      <td>2012</td>\n",
       "    </tr>\n",
       "    <tr>\n",
       "      <th>35539</th>\n",
       "      <td>10</td>\n",
       "      <td>True</td>\n",
       "      <td>:D</td>\n",
       "      <td>2012</td>\n",
       "    </tr>\n",
       "    <tr>\n",
       "      <th>43134</th>\n",
       "      <td>10</td>\n",
       "      <td>True</td>\n",
       "      <td>Good Game :D</td>\n",
       "      <td>2012</td>\n",
       "    </tr>\n",
       "    <tr>\n",
       "      <th>24137</th>\n",
       "      <td>10</td>\n",
       "      <td>True</td>\n",
       "      <td>jueguenlooooooo</td>\n",
       "      <td>2013</td>\n",
       "    </tr>\n",
       "  </tbody>\n",
       "</table>\n",
       "</div>"
      ],
      "text/plain": [
       "      item_id  recommend                                             review  \\\n",
       "5331       10       True  this game is the 1# online action game is awes...   \n",
       "22702      10       True  GYERTEK GAMELNI MINDENKI ITT VAN AKI SZÁMIT !!...   \n",
       "35539      10       True                                                 :D   \n",
       "43134      10       True                                       Good Game :D   \n",
       "24137      10       True                                    jueguenlooooooo   \n",
       "\n",
       "       year  \n",
       "5331   2011  \n",
       "22702  2012  \n",
       "35539  2012  \n",
       "43134  2012  \n",
       "24137  2013  "
      ]
     },
     "execution_count": 18,
     "metadata": {},
     "output_type": "execute_result"
    }
   ],
   "source": [
    "# Eliminamos las columnas 'posted' y 'user_id' que ya no son de utilidad\n",
    "df_UserReviews.drop(['posted', 'user_id'], axis=1, inplace=True)\n",
    "\n",
    "#Observamos el resultado\n",
    "df_UserReviews.head()"
   ]
  },
  {
   "cell_type": "markdown",
   "metadata": {},
   "source": [
    "Ahora, evaluaremos la columna \"review\" para obtener estadísticas sobre la cantidad de reseñas por lenguaje.\n",
    "\n",
    "Este análisis será crucial para determinar si el proceso de análisis de sentimientos se realizará en todo el conjunto de datos o si se aplicará un filtro específico por idioma."
   ]
  },
  {
   "cell_type": "code",
   "execution_count": 19,
   "metadata": {},
   "outputs": [
    {
     "data": {
      "text/html": [
       "<div>\n",
       "<style scoped>\n",
       "    .dataframe tbody tr th:only-of-type {\n",
       "        vertical-align: middle;\n",
       "    }\n",
       "\n",
       "    .dataframe tbody tr th {\n",
       "        vertical-align: top;\n",
       "    }\n",
       "\n",
       "    .dataframe thead th {\n",
       "        text-align: right;\n",
       "    }\n",
       "</style>\n",
       "<table border=\"1\" class=\"dataframe\">\n",
       "  <thead>\n",
       "    <tr style=\"text-align: right;\">\n",
       "      <th></th>\n",
       "      <th>Conteo</th>\n",
       "      <th>Porcentaje</th>\n",
       "    </tr>\n",
       "    <tr>\n",
       "      <th>language</th>\n",
       "      <th></th>\n",
       "      <th></th>\n",
       "    </tr>\n",
       "  </thead>\n",
       "  <tbody>\n",
       "    <tr>\n",
       "      <th>en</th>\n",
       "      <td>44417</td>\n",
       "      <td>77.91%</td>\n",
       "    </tr>\n",
       "    <tr>\n",
       "      <th>pt</th>\n",
       "      <td>2115</td>\n",
       "      <td>3.71%</td>\n",
       "    </tr>\n",
       "    <tr>\n",
       "      <th>es</th>\n",
       "      <td>1232</td>\n",
       "      <td>2.16%</td>\n",
       "    </tr>\n",
       "    <tr>\n",
       "      <th>de</th>\n",
       "      <td>1128</td>\n",
       "      <td>1.98%</td>\n",
       "    </tr>\n",
       "    <tr>\n",
       "      <th>so</th>\n",
       "      <td>987</td>\n",
       "      <td>1.73%</td>\n",
       "    </tr>\n",
       "  </tbody>\n",
       "</table>\n",
       "</div>"
      ],
      "text/plain": [
       "          Conteo Porcentaje\n",
       "language                   \n",
       "en         44417     77.91%\n",
       "pt          2115      3.71%\n",
       "es          1232      2.16%\n",
       "de          1128      1.98%\n",
       "so           987      1.73%"
      ]
     },
     "execution_count": 19,
     "metadata": {},
     "output_type": "execute_result"
    }
   ],
   "source": [
    "# Creamos una función para el análisis de texto\n",
    "def detectar_idioma(texto):\n",
    "    try:\n",
    "        return detect(texto)\n",
    "    except:\n",
    "        return None\n",
    "    \n",
    "# Aplicamos la función para detectar idioma y crear una nueva columna: 'language'\n",
    "df_UserReviews[\"language\"] = df_UserReviews[\"review\"].apply(detectar_idioma)\n",
    "\n",
    "# Calculamos el conteo y porcentaje de cada idioma\n",
    "conteo_por_idioma = df_UserReviews[\"language\"].value_counts()\n",
    "porcentaje_por_idioma = df_UserReviews[\"language\"].value_counts(normalize=True) * 100\n",
    "\n",
    "# Creamos un nuevo DataFrame con el conteo y porcentaje\n",
    "resumen_idiomas = pd.DataFrame({\"Conteo\": conteo_por_idioma,\n",
    "                                \"Porcentaje\": porcentaje_por_idioma.round(2).astype(str) + \"%\"})\n",
    "\n",
    "# Ordenamos el DataFrame por el conteo de mayor a menor\n",
    "resumen_idiomas = resumen_idiomas.sort_values(by=\"Conteo\", ascending=False)\n",
    "\n",
    "#Observamos el resultado\n",
    "resumen_idiomas.head()"
   ]
  },
  {
   "cell_type": "markdown",
   "metadata": {},
   "source": [
    "Los nombres completos de los idiomas obtenidos son:\n",
    "\n",
    "- \"en\": English\n",
    "- \"pt\": Portugués\n",
    "- \"es\": Español\n",
    "- \"de\": German\n",
    "- \"so\": Somali"
   ]
  },
  {
   "cell_type": "markdown",
   "metadata": {},
   "source": [
    "Con los resultados obtenidos se consideró realizar el análisis de sentimiento solo en los registros en inglés (\"en\") por las siguientes razones:\n",
    "\n",
    "- Mayor Representatividad.\n",
    "- Precisión del Modelo.\n",
    "- Eficiencia Computacional."
   ]
  },
  {
   "cell_type": "code",
   "execution_count": 20,
   "metadata": {},
   "outputs": [],
   "source": [
    "# Filtramos los registros donde \"language\" no es igual a 'en'. Y sobreescrimos el DataFrame\n",
    "df_UserReviews = df_UserReviews[df_UserReviews[\"language\"] == \"en\"]"
   ]
  },
  {
   "cell_type": "code",
   "execution_count": 21,
   "metadata": {},
   "outputs": [],
   "source": [
    "# Eliminamos la columna \"language\" ya que no la necesitaremos más\n",
    "df_UserReviews =  df_UserReviews.drop(\"language\", axis=1)"
   ]
  },
  {
   "cell_type": "markdown",
   "metadata": {},
   "source": [
    "### Feature Engineering"
   ]
  },
  {
   "cell_type": "markdown",
   "metadata": {},
   "source": [
    "La columna \"review\" incluye reseñas de juegos hechos por distintos usuarios, por lo que partiendo de ahí se va crear la columna \"sentiment_analysis\" aplicando análisis de sentimiento con NLP (Procesamiento del Lenguaje Natural) con la siguiente escala:\n",
    "\n",
    "Debe tomar el valor '0' si es malo,\n",
    "Debe tomar el valor '1' si es neutral y\n",
    "Debe tomar el valor '2' si es positivo.\n",
    "\n",
    "De no ser posible este análisis por estar ausente la reseña escrita, tomará el valor de 1. Esta nueva columna reemplaza la de \"review\" para facilitar el trabajo de los modelos de machine learning y el análisis de datos."
   ]
  },
  {
   "cell_type": "code",
   "execution_count": 22,
   "metadata": {},
   "outputs": [],
   "source": [
    "# Convertimos todas las letras a minúsculas\n",
    "df_UserReviews[\"review\"] = df_UserReviews[\"review\"].str.lower()"
   ]
  },
  {
   "cell_type": "code",
   "execution_count": 23,
   "metadata": {},
   "outputs": [],
   "source": [
    "# Eliminamos caracteres especiales\n",
    "df_UserReviews[\"review\"] = df_UserReviews[\"review\"].replace(\"[^A-Za-z0-9\\s]+\", \"\", regex=True)"
   ]
  },
  {
   "cell_type": "code",
   "execution_count": 24,
   "metadata": {},
   "outputs": [],
   "source": [
    "# Eliminamos caracteres de puntuación irrelevantes para el análisis de sentimento\n",
    "df_UserReviews[\"review\"] = df_UserReviews['review'].str.replace('[^\\w\\s]', '', regex=True)"
   ]
  },
  {
   "cell_type": "code",
   "execution_count": 25,
   "metadata": {},
   "outputs": [],
   "source": [
    "# Creamos una función para el análisis de sentimientos\n",
    "def analyze_sentiments(df):\n",
    "\n",
    "    # Instanciamos el analizador de sentimientos\n",
    "    sia = SentimentIntensityAnalyzer()\n",
    "\n",
    "    # Aplicamos el análisis de sentimientos y asignamos valores numéricos\n",
    "    df[\"compound_score\"] = df[\"review\"].apply(lambda review: sia.polarity_scores(review)[\"compound\"])\n",
    "    df[\"sentiment_analysis\"] = df[\"compound_score\"].apply(lambda score: 0 if score < 0 else (1 if score == 0 else 2))\n",
    "\n",
    "    # Conteo de reviews por score\n",
    "    score_counts = df[\"sentiment_analysis\"].value_counts()\n",
    "\n",
    "    # Conteo de reviews en blanco\n",
    "    blank_reviews_count = df[\"review\"].isnull().sum()\n",
    "\n",
    "    # Total de reviews\n",
    "    total_reviews = len(df)\n",
    "\n",
    "    # Calcular porcentajes\n",
    "    score_percentages = (score_counts / total_reviews * 100).round(2)\n",
    "    blank_reviews_percentage = (blank_reviews_count / total_reviews * 100).round(2)\n",
    "     \n",
    "    # Eliminamos las columnas \"review\" y \"compound_score\", no necesitaremos estos datos\n",
    "    df.drop([\"review\", \"compound_score\"], axis=1, inplace=True)  \n",
    "\n",
    "    return df, score_counts, blank_reviews_count, score_percentages, blank_reviews_percentage"
   ]
  },
  {
   "cell_type": "code",
   "execution_count": 26,
   "metadata": {},
   "outputs": [],
   "source": [
    "# Llamamos a la función analyze_sentiments\n",
    "df_UserReviews, score_counts, blank_reviews_count, score_percentages, blank_reviews_percentage = analyze_sentiments(df_UserReviews)"
   ]
  },
  {
   "cell_type": "code",
   "execution_count": 27,
   "metadata": {},
   "outputs": [
    {
     "name": "stdout",
     "output_type": "stream",
     "text": [
      "Resumen de análisis de sentimientos:\n",
      "\n",
      "                    Conteo Porcentaje\n",
      "sentiment_analysis                   \n",
      "2                    31481     70.88%\n",
      "0                     8269     18.62%\n",
      "1                     4667     10.51%\n",
      "\n",
      "Conteo de reviews en blanco: 0. Porcentaje: 0.0%\n"
     ]
    }
   ],
   "source": [
    "# Creamos un nuevo Dataframe con el conteo y porcentaje\n",
    "resumen_sentimientos = pd.DataFrame({\"Conteo\": score_counts,\n",
    "                                     \"Porcentaje\": score_percentages.round(2).astype(str) + '%'})\n",
    "\n",
    "# Ordenamos el DataFrame por el conteo de mayor a menor\n",
    "resumen_sentimientos = resumen_sentimientos.sort_values(by='Conteo', ascending=False)\n",
    "\n",
    "# Imprimimos los resultados\n",
    "print(\"Resumen de análisis de sentimientos:\\n\")\n",
    "print(resumen_sentimientos)\n",
    "print(f\"\\nConteo de reviews en blanco: {blank_reviews_count}. Porcentaje: {blank_reviews_percentage.round(2).astype(str)}%\")"
   ]
  },
  {
   "cell_type": "markdown",
   "metadata": {},
   "source": [
    "En el análisis de sentimientos de las reseñas en la columna \"sentiment_analysis\", observamos lo siguiente:\n",
    "\n",
    "- Positivo (2):\n",
    "Representa la categoría dominante en las reseñas, abarcando el 70.83% del total. Esto indica que la gran mayoría de las reseñas tiene un sentimiento positivo.\n",
    "\n",
    "- Neutral (1):\n",
    "Aunque en menor proporción, un 10.53% de las reseñas se clasifican como neutrales. Esto podría indicar que algunos usuarios expresan opiniones sin un sesgo claramente positivo o negativo.\n",
    "\n",
    "- Negativo (0):\n",
    "La categoría de sentimiento negativo tiene una presencia más baja, constituyendo el 18.63%. Esto sugiere que, en general, la plataforma tiene una inclinación positiva en las reseñas de los usuarios.\n",
    "\n",
    "Consideraciones: La mayoría de los usuarios tiende a expresar opiniones positivas en sus reseñas.La proporción de reseñas neutrales es relativamente baja, lo que indica que la mayoría de los usuarios tiende a tener opiniones claramente positivas o negativas."
   ]
  },
  {
   "cell_type": "code",
   "execution_count": 28,
   "metadata": {},
   "outputs": [
    {
     "data": {
      "text/html": [
       "<div>\n",
       "<style scoped>\n",
       "    .dataframe tbody tr th:only-of-type {\n",
       "        vertical-align: middle;\n",
       "    }\n",
       "\n",
       "    .dataframe tbody tr th {\n",
       "        vertical-align: top;\n",
       "    }\n",
       "\n",
       "    .dataframe thead th {\n",
       "        text-align: right;\n",
       "    }\n",
       "</style>\n",
       "<table border=\"1\" class=\"dataframe\">\n",
       "  <thead>\n",
       "    <tr style=\"text-align: right;\">\n",
       "      <th></th>\n",
       "      <th>item_id</th>\n",
       "      <th>recommend</th>\n",
       "      <th>year</th>\n",
       "      <th>sentiment_analysis</th>\n",
       "    </tr>\n",
       "  </thead>\n",
       "  <tbody>\n",
       "    <tr>\n",
       "      <th>5331</th>\n",
       "      <td>10</td>\n",
       "      <td>True</td>\n",
       "      <td>2011</td>\n",
       "      <td>2</td>\n",
       "    </tr>\n",
       "    <tr>\n",
       "      <th>45506</th>\n",
       "      <td>10</td>\n",
       "      <td>True</td>\n",
       "      <td>2013</td>\n",
       "      <td>1</td>\n",
       "    </tr>\n",
       "    <tr>\n",
       "      <th>7801</th>\n",
       "      <td>10</td>\n",
       "      <td>True</td>\n",
       "      <td>2014</td>\n",
       "      <td>2</td>\n",
       "    </tr>\n",
       "    <tr>\n",
       "      <th>7967</th>\n",
       "      <td>10</td>\n",
       "      <td>True</td>\n",
       "      <td>2014</td>\n",
       "      <td>2</td>\n",
       "    </tr>\n",
       "    <tr>\n",
       "      <th>8519</th>\n",
       "      <td>10</td>\n",
       "      <td>True</td>\n",
       "      <td>2014</td>\n",
       "      <td>2</td>\n",
       "    </tr>\n",
       "  </tbody>\n",
       "</table>\n",
       "</div>"
      ],
      "text/plain": [
       "      item_id  recommend  year  sentiment_analysis\n",
       "5331       10       True  2011                   2\n",
       "45506      10       True  2013                   1\n",
       "7801       10       True  2014                   2\n",
       "7967       10       True  2014                   2\n",
       "8519       10       True  2014                   2"
      ]
     },
     "execution_count": 28,
     "metadata": {},
     "output_type": "execute_result"
    }
   ],
   "source": [
    "# Observamos el resultado\n",
    "df_UserReviews.head()"
   ]
  },
  {
   "cell_type": "markdown",
   "metadata": {},
   "source": [
    "### 5. Guardar el conjunto de datos limpio"
   ]
  },
  {
   "cell_type": "code",
   "execution_count": 29,
   "metadata": {},
   "outputs": [],
   "source": [
    "# Los archivos se almacenan en local \n",
    "df_UserReviews.to_csv('australian_user_reviews_cleaned.csv', index=False)"
   ]
  }
 ],
 "metadata": {
  "kernelspec": {
   "display_name": "Python 3",
   "language": "python",
   "name": "python3"
  },
  "language_info": {
   "codemirror_mode": {
    "name": "ipython",
    "version": 3
   },
   "file_extension": ".py",
   "mimetype": "text/x-python",
   "name": "python",
   "nbconvert_exporter": "python",
   "pygments_lexer": "ipython3",
   "version": "3.10.11"
  }
 },
 "nbformat": 4,
 "nbformat_minor": 2
}
